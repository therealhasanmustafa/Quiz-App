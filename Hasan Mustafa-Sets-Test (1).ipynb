{
 "cells": [
  {
   "cell_type": "code",
   "execution_count": 2,
   "metadata": {},
   "outputs": [
    {
     "name": "stdout",
     "output_type": "stream",
     "text": [
      "{'green', 'blue', 'lamborghini', 'yellow'}\n",
      "{'gtx', 'book'}\n"
     ]
    }
   ],
   "source": [
    "a=set([\"yellow\",\"green\",\"book\",\"car\",\"blue\",\"lamborghini\",\"hasan\"])\n",
    "print(a)\n",
    "b = set([\"gtx\",\"book\",\"ferrari\",\"audi\",\"tesla\",\"unais\",\"khizer\",\"rehman\"])\n",
    "print(b)"
   ]
  },
  {
   "cell_type": "code",
   "execution_count": 5,
   "metadata": {},
   "outputs": [
    {
     "name": "stdout",
     "output_type": "stream",
     "text": [
      "{'ferrari'}\n",
      "{'ferrari'}\n"
     ]
    }
   ],
   "source": [
    "a = set([\"yellow\",\"car\",\"ferrari\",])\n",
    "b = set([\"ferrari\",\"gtx\",\"lamborghini\"])\n",
    "\n",
    "print(a.intersection(b))\n",
    "print(b.intersection(a))"
   ]
  },
  {
   "cell_type": "code",
   "execution_count": 6,
   "metadata": {},
   "outputs": [
    {
     "name": "stdout",
     "output_type": "stream",
     "text": [
      "{'unais'}\n",
      "{'areej', 'wardah'}\n"
     ]
    }
   ],
   "source": [
    "\n",
    "\n",
    "a=set([\"unais\",\"hasan\",\"hamna\",\"rehman\"])\n",
    "b = set([\"hasan\",\"hamna\",\"areej\",\"wardah\",\"rehman\"])\n",
    "\n",
    "print(a.difference(b))\n",
    "print(b.difference(a))"
   ]
  },
  {
   "cell_type": "code",
   "execution_count": 7,
   "metadata": {},
   "outputs": [
    {
     "name": "stdout",
     "output_type": "stream",
     "text": [
      "{'areej', 'rehman', 'unais'}\n",
      "{'unais', 'areej', 'rehman'}\n"
     ]
    }
   ],
   "source": [
    "a=set([\"unais\",\"hamna\",\"hasan\",\"areej\"])\n",
    "b = set([\"rehman\",\"hasan\",\"hamna\",\"rehman\"])\n",
    "\n",
    "print(a.symmetric_difference(b))\n",
    "print(b.symmetric_difference(a))"
   ]
  },
  {
   "cell_type": "code",
   "execution_count": 8,
   "metadata": {},
   "outputs": [
    {
     "name": "stdout",
     "output_type": "stream",
     "text": [
      "{'areej', 'rehman', 'hasan', 'hamna', 'unais', 'wardah'}\n"
     ]
    }
   ],
   "source": [
    "a = set([\"unais\",\"hasan\",\"hamna\",\"rehman\"])\n",
    "b = set([\"hasan\",\"hamna\",\"areej\",\"wardah\",\"rehman\"])\n",
    "print(a.union(b))"
   ]
  },
  {
   "cell_type": "code",
   "execution_count": 12,
   "metadata": {},
   "outputs": [
    {
     "name": "stdout",
     "output_type": "stream",
     "text": [
      "{'unais', 'hasan'}\n",
      "2\n",
      "{'hamna', 'rehman'} ahmad\n"
     ]
    }
   ],
   "source": [
    "a= set([\"unais\",\"hasan\",])\n",
    "b= set([\"hamna\",\"rehman\"])\n",
    "print(a)\n",
    "print(len(a))\n",
    "a.remove(\"unais\")\n",
    "a.pop()\n",
    "a.update(b)\n",
    "print(a,\"ahmad\")"
   ]
  },
  {
   "cell_type": "code",
   "execution_count": null,
   "metadata": {},
   "outputs": [],
   "source": []
  }
 ],
 "metadata": {
  "kernelspec": {
   "display_name": "Python 3",
   "language": "python",
   "name": "python3"
  },
  "language_info": {
   "codemirror_mode": {
    "name": "ipython",
    "version": 3
   },
   "file_extension": ".py",
   "mimetype": "text/x-python",
   "name": "python",
   "nbconvert_exporter": "python",
   "pygments_lexer": "ipython3",
   "version": "3.8.3"
  }
 },
 "nbformat": 4,
 "nbformat_minor": 4
}
